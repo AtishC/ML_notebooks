{
 "cells": [
  {
   "cell_type": "markdown",
   "metadata": {},
   "source": [
    "## Question 1 : Solution"
   ]
  },
  {
   "cell_type": "code",
   "execution_count": 15,
   "metadata": {},
   "outputs": [],
   "source": [
    "def drawpattern(num):\n",
    "    if type(num) == int:\n",
    "        i=1\n",
    "        while i <= num:\n",
    "            j = 1\n",
    "            while j <= i:\n",
    "                print('* ',end='')\n",
    "                j = j + 1\n",
    "            i = i + 1\n",
    "            print()\n",
    "        \n",
    "        i = num - 1\n",
    "        while i >= 1:\n",
    "            j = 1\n",
    "            while j <= i:\n",
    "                print('* ',end='')\n",
    "                j = j + 1\n",
    "            i = i - 1\n",
    "            print()\n",
    "        \n",
    "    else:\n",
    "        print('Please pass a number as the input to the function')"
   ]
  },
  {
   "cell_type": "code",
   "execution_count": 17,
   "metadata": {},
   "outputs": [
    {
     "name": "stdout",
     "output_type": "stream",
     "text": [
      "* \n",
      "* * \n",
      "* * * \n",
      "* * * * \n",
      "* * * * * \n",
      "* * * * * * \n",
      "* * * * * \n",
      "* * * * \n",
      "* * * \n",
      "* * \n",
      "* \n"
     ]
    }
   ],
   "source": [
    "drawpattern(6)"
   ]
  },
  {
   "cell_type": "markdown",
   "metadata": {},
   "source": [
    "## Question 2 : Solution"
   ]
  },
  {
   "cell_type": "code",
   "execution_count": 18,
   "metadata": {},
   "outputs": [
    {
     "name": "stdout",
     "output_type": "stream",
     "text": [
      "Enter any word to be reversed : INEURON\n",
      "Reversed word -  NORUENI\n"
     ]
    }
   ],
   "source": [
    "word = input('Enter any word to be reversed : ')\n",
    "print('Reversed word - ', word[::-1])"
   ]
  },
  {
   "cell_type": "code",
   "execution_count": null,
   "metadata": {},
   "outputs": [],
   "source": []
  }
 ],
 "metadata": {
  "kernelspec": {
   "display_name": "Python 3",
   "language": "python",
   "name": "python3"
  },
  "language_info": {
   "codemirror_mode": {
    "name": "ipython",
    "version": 3
   },
   "file_extension": ".py",
   "mimetype": "text/x-python",
   "name": "python",
   "nbconvert_exporter": "python",
   "pygments_lexer": "ipython3",
   "version": "3.7.4"
  }
 },
 "nbformat": 4,
 "nbformat_minor": 2
}
